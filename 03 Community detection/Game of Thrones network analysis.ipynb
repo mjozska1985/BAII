{
 "cells": [
  {
   "cell_type": "code",
   "execution_count": null,
   "id": "186307e8",
   "metadata": {},
   "outputs": [],
   "source": [
    "# In this notebook we will analyse the network of characters in the first 5 books\n",
    "# of 'A Song of Ice and Fire' book series, the basis for the popular Game of Thrones series\n",
    "# The tasks are based on the project 'A Network Analysis of Game of Thrones'\n",
    "# but here I solve some of the tasks slightly differently\n",
    "\n",
    "# Start with the important libraries\n",
    "\n",
    "import numpy as np\n",
    "import pandas as pd\n",
    "import matplotlib.pyplot as plt\n",
    "import seaborn as sns\n",
    "\n",
    "# Importing the new library for network analysis\n",
    "import networkx as nx"
   ]
  },
  {
   "cell_type": "code",
   "execution_count": null,
   "id": "44a835cc",
   "metadata": {},
   "outputs": [],
   "source": [
    "# Importing modules\n",
    "import pandas as pd\n",
    "\n",
    "# Reading in the network of characters from the first book\n",
    "book1 = pd.read_csv('book1.csv')\n",
    "\n",
    "# Printing out the head of the dataset\n",
    "print(book1.head())"
   ]
  },
  {
   "cell_type": "code",
   "execution_count": null,
   "id": "ef66c836",
   "metadata": {},
   "outputs": [],
   "source": [
    "# We can convert the dataframe into a network with weight and book information stored\n",
    "\n",
    "book_1_net = nx.from_pandas_edgelist(book1, 'Source', 'Target', ['weight', 'book'])\n",
    "\n",
    "book_1_net.edges(data = True)"
   ]
  },
  {
   "cell_type": "code",
   "execution_count": null,
   "id": "3425f547",
   "metadata": {},
   "outputs": [],
   "source": [
    "# We can import all the other books and collect the networks in a list\n",
    "\n",
    "books = [book_1_net]\n",
    "book_fnames = ['book2.csv', 'book3.csv', 'book4.csv', 'book5.csv']\n",
    "for book_fname in book_fnames:\n",
    "    book = pd.read_csv(book_fname)\n",
    "    book = nx.from_pandas_edgelist(book, 'Source', 'Target', ['weight', 'book'])\n",
    "    books.append(book)"
   ]
  },
  {
   "cell_type": "code",
   "execution_count": null,
   "id": "c0362bbb",
   "metadata": {},
   "outputs": [],
   "source": [
    "# We can then simply access different books with indexing\n",
    "\n",
    "books[1].edges(data = True)"
   ]
  },
  {
   "cell_type": "code",
   "execution_count": null,
   "id": "c6210a9e",
   "metadata": {},
   "outputs": [],
   "source": [
    "# We can compare the centrality in the first and fifth books\n",
    "\n",
    "# Calculating the degree centrality of book 1\n",
    "deg_cen_book1 = nx.degree_centrality(books[0])\n",
    "\n",
    "# Calculating the degree centrality of book 5\n",
    "deg_cen_book5 = nx.degree_centrality(books[4])\n",
    "\n",
    "# Sorting the dictionaries according to their degree centrality and storing the top 10\n",
    "deg_cen_book1 = pd.Series(deg_cen_book1).to_frame('degree_cent')\n",
    "print(deg_cen_book1.sort_values('degree_cent', ascending = False)[:10])\n",
    "\n",
    "# Sorting the dictionaries according to their degree centrality and storing the top 10\n",
    "deg_cen_book5 = pd.Series(deg_cen_book5).to_frame('degree_cent')\n",
    "print(deg_cen_book5.sort_values('degree_cent', ascending = False)[:10])"
   ]
  },
  {
   "cell_type": "code",
   "execution_count": null,
   "id": "1a805036",
   "metadata": {},
   "outputs": [],
   "source": [
    "# Lets look at the evolution of centrality for some characters\n",
    "\n",
    "# Creating a list of degree centrality of all the books\n",
    "evol = [nx.degree_centrality(book) for book in books]\n",
    " \n",
    "# Creating a DataFrame from the list of degree centralities in all the books\n",
    "degree_evol_df = pd.DataFrame.from_records(evol)\n",
    "\n",
    "# Plotting the degree centrality evolution of Eddard-Stark, Tyrion-Lannister and Jon-Snow\n",
    "degree_evol_df[['Eddard-Stark', 'Tyrion-Lannister', 'Jon-Snow']].plot()"
   ]
  },
  {
   "cell_type": "code",
   "execution_count": null,
   "id": "3971bfbc",
   "metadata": {},
   "outputs": [],
   "source": [
    "# Checking the evolution of top 5 characters according to PageRank\n",
    "\n",
    "# Creating a list of pagerank of all the characters in all the books\n",
    "evol = [nx.pagerank(book) for book in books]\n",
    "\n",
    "# Making a DataFrame from the list\n",
    "pagerank_evol_df = pd.DataFrame(evol)\n",
    "\n",
    "# Finding the top 5 characters in every book\n",
    "set_of_char = set()\n",
    "for i in range(5):\n",
    "    set_of_char |= set(list(pagerank_evol_df.T[i].sort_values(ascending=False)[0:4].index))\n",
    "list_of_char = list(set_of_char)\n",
    "\n",
    "# Plotting the top characters\n",
    "pagerank_evol_df[list_of_char].plot(figsize=(15, 10))"
   ]
  },
  {
   "cell_type": "code",
   "execution_count": null,
   "id": "65fd5147",
   "metadata": {},
   "outputs": [],
   "source": [
    "# Correlation of centralities\n",
    "measures = [nx.pagerank(books[4]), \n",
    "            nx.betweenness_centrality(books[4], weight='weight'), \n",
    "            nx.degree_centrality(books[4])]\n",
    "\n",
    "# Creating the correlation DataFrame\n",
    "cor = pd.DataFrame.from_records(measures)\n",
    "\n",
    "# Calculating the correlation\n",
    "cor.T.corr()"
   ]
  },
  {
   "cell_type": "code",
   "execution_count": null,
   "id": "95b1111b",
   "metadata": {},
   "outputs": [],
   "source": []
  }
 ],
 "metadata": {
  "kernelspec": {
   "display_name": "Python 3",
   "language": "python",
   "name": "python3"
  },
  "language_info": {
   "codemirror_mode": {
    "name": "ipython",
    "version": 3
   },
   "file_extension": ".py",
   "mimetype": "text/x-python",
   "name": "python",
   "nbconvert_exporter": "python",
   "pygments_lexer": "ipython3",
   "version": "3.8.8"
  }
 },
 "nbformat": 4,
 "nbformat_minor": 5
}
