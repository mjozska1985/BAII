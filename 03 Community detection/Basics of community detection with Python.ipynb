{
 "cells": [
  {
   "cell_type": "code",
   "execution_count": null,
   "id": "cc1cc26c",
   "metadata": {},
   "outputs": [],
   "source": [
    "# In the following, we will look at community detection\n",
    "# We use a dataset widely used in network analysis to illustrate \n",
    "# different methods; the dataset describes the friendships of members in a karate club\n",
    "# We have seen different features of this network from the perspective of basic network characteristics\n",
    "# Now we look at the possible communities we may find"
   ]
  },
  {
   "cell_type": "code",
   "execution_count": null,
   "id": "c57b0cd4",
   "metadata": {},
   "outputs": [],
   "source": [
    "# We start with the common libraries\n",
    "\n",
    "import numpy as np\n",
    "import pandas as pd\n",
    "import matplotlib.pyplot as plt\n",
    "import seaborn as sns\n",
    "import networkx as nx"
   ]
  },
  {
   "cell_type": "code",
   "execution_count": null,
   "id": "41424762",
   "metadata": {},
   "outputs": [],
   "source": [
    "# Additionally to community detection, I want to show one package that could be used as an laternative for visualzing\n",
    "# pyvis. This is not part of the main anaconda distribution, so we have to install it first\n",
    "# As before, use anaconda prompt and write\n",
    "# conda install -c conda-forge pyvis\n",
    "\n",
    "import pyvis"
   ]
  },
  {
   "cell_type": "code",
   "execution_count": null,
   "id": "aeabe2d0",
   "metadata": {},
   "outputs": [],
   "source": [
    "# We can start by loading the network as it is part of networkx\n",
    "\n",
    "karate_net = nx.karate_club_graph()"
   ]
  },
  {
   "cell_type": "code",
   "execution_count": null,
   "id": "d76e849d",
   "metadata": {},
   "outputs": [],
   "source": [
    "# In order to use the visualization tool of pyvis\n",
    "# the first step is to create a Network object of the library\n",
    "# First we initialize the object\n",
    "\n",
    "karate_vis = pyvis.network.Network()"
   ]
  },
  {
   "cell_type": "code",
   "execution_count": null,
   "id": "c2454d61",
   "metadata": {},
   "outputs": [],
   "source": [
    "# Then we convert the format\n",
    "\n",
    "karate_vis.from_nx(karate_net)"
   ]
  },
  {
   "cell_type": "code",
   "execution_count": null,
   "id": "c772bc36",
   "metadata": {},
   "outputs": [],
   "source": [
    "# Finally we visualize the network\n",
    "# We need to give a name as an html file will be created in the folder where we currently work with the notebook\n",
    "# The created visualization will pop-up in a new tab in your browser\n",
    "\n",
    "karate_vis.show('karate.html')"
   ]
  },
  {
   "cell_type": "code",
   "execution_count": null,
   "id": "a1e3605a",
   "metadata": {},
   "outputs": [],
   "source": [
    "# To see another example and what you can do with pyvis, here is the example from the official tutorial page\n",
    "# There is no need to understand everything in this code here, you will not be required to create a similar visualization\n",
    "# https://pyvis.readthedocs.io/en/latest/tutorial.html#example-visualizing-a-game-of-thrones-character-network\n",
    "\n",
    "got_net = pyvis.network.Network(height='750px', width='100%', bgcolor='#222222', font_color='white')\n",
    "\n",
    "# set the physics layout of the network\n",
    "got_net.barnes_hut()\n",
    "got_data = pd.read_csv('https://www.macalester.edu/~abeverid/data/stormofswords.csv')\n",
    "\n",
    "sources = got_data['Source']\n",
    "targets = got_data['Target']\n",
    "weights = got_data['Weight']\n",
    "\n",
    "edge_data = zip(sources, targets, weights)\n",
    "\n",
    "for e in edge_data:\n",
    "    src = e[0]\n",
    "    dst = e[1]\n",
    "    w = e[2]\n",
    "\n",
    "    got_net.add_node(src, src, title=src)\n",
    "    got_net.add_node(dst, dst, title=dst)\n",
    "    got_net.add_edge(src, dst, value=w)\n",
    "\n",
    "neighbor_map = got_net.get_adj_list()\n",
    "\n",
    "# add neighbor data to node hover data\n",
    "for node in got_net.nodes:\n",
    "    node['title'] += ' Neighbors:<br>' + '<br>'.join(neighbor_map[node['id']])\n",
    "    node['value'] = len(neighbor_map[node['id']])\n",
    "\n",
    "got_net.show('gameofthrones.html')"
   ]
  },
  {
   "cell_type": "code",
   "execution_count": null,
   "id": "1017cb02",
   "metadata": {},
   "outputs": [],
   "source": [
    "# Going back to community detection, we can run edge betweenness algorithm as follows\n",
    "# In networkx it is actually names after the researchers creating the algorithm\n",
    "# In order to avoid lots of typing, we can import separately a subset of networkx focusing on communities\n",
    "\n",
    "import networkx.algorithms.community as nx_comm\n",
    "\n",
    "communities = nx_comm.girvan_newman(karate_net)\n",
    "\n",
    "# As we can see it is a generator object \n",
    "# We will not discuss these in detail, you can just simply think them as something that you can iterate over\n",
    "# An example that you are familiar with is for example range()\n",
    "\n",
    "communities"
   ]
  },
  {
   "cell_type": "code",
   "execution_count": null,
   "id": "53a75c0f",
   "metadata": {},
   "outputs": [],
   "source": [
    "# The way we will utilize the outcome is to convert it into a list\n",
    "# Thisissimilar that you do with range for example, if you want to print it, an dnot simply use it in a loop\n",
    "\n",
    "comm_list = list(communities)"
   ]
  },
  {
   "cell_type": "code",
   "execution_count": null,
   "id": "23454be5",
   "metadata": {},
   "outputs": [],
   "source": [
    "# What we have in the list is one element for each step in running the community detection algorithm\n",
    "# So the first element in the list is the two subcommunities we obtain when removing one edge\n",
    "# The second element of the list is the three subcommunities that we ontain from the previous step removing one edge\n",
    "# etc.\n",
    "\n",
    "comm_list"
   ]
  },
  {
   "cell_type": "code",
   "execution_count": null,
   "id": "9acd5f30",
   "metadata": {},
   "outputs": [],
   "source": [
    "# The focus here is not on visualization, but we can checl how to do it\n",
    "# For example if we want to visualize two communities, \n",
    "# we need to assign a color to each node based on the community it belongs to\n",
    "# First we extract the community, the first element of the list we created above\n",
    "\n",
    "comm_2 = comm_list[0]\n",
    "\n",
    "# We create an empty lost to store the colors\n",
    "color_map = []\n",
    "\n",
    "# Then we iterate over the nodes of the network, and if the node is in the first subcommunity, we assign blue\n",
    "# otherwise we assign green\n",
    "\n",
    "for node in karate_net:\n",
    "    if node in comm_2[0]:\n",
    "        color_map.append('blue')\n",
    "    else: \n",
    "        color_map.append('green')  \n",
    "        \n",
    "# After this we can draw the network with different coloring specified in node_color parameter\n",
    "nx.draw_kamada_kawai(karate_net, node_color=color_map, with_labels=True)"
   ]
  },
  {
   "cell_type": "code",
   "execution_count": null,
   "id": "7ed5fa41",
   "metadata": {},
   "outputs": [],
   "source": [
    "# We can do the same thing with three communities\n",
    "\n",
    "comm_3 = comm_list[1]\n",
    "\n",
    "# We create an empty lost to store the colors\n",
    "color_map_3 = []\n",
    "\n",
    "# Then we iterate over the nodes of the network, and if the node is in the first subcommunity, we assign blue\n",
    "# if in the second subcommunity, we assign red, otherwise we assign green\n",
    "\n",
    "for node in karate_net:\n",
    "    if node in comm_3[0]:\n",
    "        color_map_3.append('blue')\n",
    "    elif node in comm_3[1] :\n",
    "        color_map_3.append('red')\n",
    "    else: \n",
    "        color_map_3.append('green')  \n",
    "        \n",
    "# After this we can draw the network with different coloring specified in node_color parameter\n",
    "nx.draw_kamada_kawai(karate_net, node_color=color_map_3, with_labels=True)"
   ]
  },
  {
   "cell_type": "code",
   "execution_count": null,
   "id": "84c5be76",
   "metadata": {},
   "outputs": [],
   "source": [
    "# How do we detrmine which community structure to use?\n",
    "# This is similar to using the number of clusters in clustering, there is no definite answer\n",
    "# One useful measure we can use is modularity\n",
    "# We can calcuate the modularity for each created community\n",
    "\n",
    "modularity_list = []\n",
    "\n",
    "for comm in comm_list:\n",
    "    mod = nx_comm.modularity(karate_net, comm)\n",
    "    modularity_list.append(mod)\n",
    "    print('The modularity with', len(comm), 'subcommunities is', mod)\n",
    "    "
   ]
  },
  {
   "cell_type": "code",
   "execution_count": null,
   "id": "2f212b00",
   "metadata": {},
   "outputs": [],
   "source": [
    "# As we can see from the list, we have the highest modularity with 5 communities\n",
    "# We can also plot the values\n",
    "sns.lineplot(x = range(33), y = modularity_list)"
   ]
  },
  {
   "cell_type": "code",
   "execution_count": null,
   "id": "e5726d05",
   "metadata": {
    "scrolled": true
   },
   "outputs": [],
   "source": [
    "# We can also visualize the 5 communities\n",
    "\n",
    "comm_5 = comm_list[3]\n",
    "\n",
    "# We create an empty lost to store the colors\n",
    "color_map_5 = []\n",
    "\n",
    "# List of colors \n",
    "colors = ['blue', 'red', 'green', 'yellow', 'orange']\n",
    "\n",
    "# Then we iterate over the nodes of the network, and also the 5 possible communities\n",
    "# And get the color based on that\n",
    "\n",
    "for node in karate_net:\n",
    "    for i in range(len(comm_5)):\n",
    "        if node in comm_5[i]:\n",
    "            color_map_5.append(colors[i])\n",
    "            \n",
    "# Finally visualize the network\n",
    "nx.draw_kamada_kawai(karate_net, node_color=color_map_5, with_labels=True)"
   ]
  },
  {
   "cell_type": "code",
   "execution_count": null,
   "id": "969d6a75",
   "metadata": {},
   "outputs": [],
   "source": [
    "# For later use, we can also create a list of membership labels\n",
    "# eg. if node n is in community i, the the nth element of the list is i\n",
    "\n",
    "comm_memb = []\n",
    "\n",
    "for node in karate_net:\n",
    "    for i in range(len(comm_5)):\n",
    "        if node in comm_5[i]:\n",
    "            comm_memb.append(i)\n",
    "            \n",
    "print(comm_memb)"
   ]
  },
  {
   "cell_type": "code",
   "execution_count": null,
   "id": "8f225cbd",
   "metadata": {},
   "outputs": [],
   "source": [
    "# How we can use this? Let's load some additional data about club members\n",
    "\n",
    "karate_data = pd.read_csv('karate_data.csv', sep = ';')\n",
    "\n",
    "# We have information about the gender and age of the members\n",
    "# And we know how much time they spend in the club per week and for how many days they have been members\n",
    "\n",
    "karate_data.head()"
   ]
  },
  {
   "cell_type": "code",
   "execution_count": null,
   "id": "a7036869",
   "metadata": {},
   "outputs": [],
   "source": [
    "# We can add the meberships as a new column\n",
    "\n",
    "karate_data['memb'] = comm_memb\n",
    "\n",
    "print(karate_data.head())"
   ]
  },
  {
   "cell_type": "code",
   "execution_count": null,
   "id": "ba4a0a57",
   "metadata": {},
   "outputs": [],
   "source": [
    "# From this point, the analysis becomes the same as we would do in clustering\n",
    "# We have 5 distinct groups of users, and we want to know whether we can differentiate them \n",
    "# based on the available information we have\n",
    "# So we group by the membership and look at the summaries of the different columns\n",
    "\n",
    "comm_karate = karate_data.groupby('memb')\n",
    "\n",
    "# We can check gender\n",
    "comm_karate['Gender'].value_counts()"
   ]
  },
  {
   "cell_type": "code",
   "execution_count": null,
   "id": "1e283e04",
   "metadata": {},
   "outputs": [],
   "source": [
    "# The other variables we can look at with summary\n",
    "\n",
    "comm_karate[['Hours in club/week', 'Days in club', 'Age']].agg('mean')"
   ]
  },
  {
   "cell_type": "code",
   "execution_count": null,
   "id": "b8bd7225",
   "metadata": {},
   "outputs": [],
   "source": []
  }
 ],
 "metadata": {
  "kernelspec": {
   "display_name": "Python 3",
   "language": "python",
   "name": "python3"
  },
  "language_info": {
   "codemirror_mode": {
    "name": "ipython",
    "version": 3
   },
   "file_extension": ".py",
   "mimetype": "text/x-python",
   "name": "python",
   "nbconvert_exporter": "python",
   "pygments_lexer": "ipython3",
   "version": "3.8.8"
  }
 },
 "nbformat": 4,
 "nbformat_minor": 5
}
