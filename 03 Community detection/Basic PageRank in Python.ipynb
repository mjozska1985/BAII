{
 "cells": [
  {
   "cell_type": "code",
   "execution_count": 1,
   "id": "8796e785",
   "metadata": {},
   "outputs": [],
   "source": [
    "# In the following we will go through the steps of calculating page rank\n",
    "import numpy as np\n",
    "import pandas as pd\n",
    "import matplotlib.pyplot as plt\n",
    "import seaborn as sns\n",
    "\n",
    "# Importing the new library for network analysis\n",
    "import networkx as nx"
   ]
  },
  {
   "cell_type": "code",
   "execution_count": 2,
   "id": "d899a655",
   "metadata": {},
   "outputs": [
    {
     "data": {
      "text/plain": [
       "array([[0, 0, 1, 0, 0, 0],\n",
       "       [1, 0, 1, 0, 0, 0],\n",
       "       [1, 1, 0, 0, 0, 1],\n",
       "       [0, 0, 0, 0, 1, 1],\n",
       "       [0, 0, 1, 1, 0, 0],\n",
       "       [0, 0, 1, 1, 1, 0]])"
      ]
     },
     "execution_count": 2,
     "metadata": {},
     "output_type": "execute_result"
    }
   ],
   "source": [
    "# Simple adjacency matrix\n",
    "pg_ex = np.array([[0, 0, 1, 0, 0, 0],\n",
    "                    [1, 0, 1, 0, 0, 0],\n",
    "                      [1, 1, 0, 0, 0, 1],\n",
    "                      [0, 0, 0, 0, 1, 1],\n",
    "                      [0, 0, 1, 1, 0, 0],\n",
    "                      [0, 0, 1, 1, 1, 0]])\n",
    "\n",
    "pg_ex"
   ]
  },
  {
   "cell_type": "code",
   "execution_count": 3,
   "id": "55bbb038",
   "metadata": {},
   "outputs": [
    {
     "data": {
      "image/png": "[encoded data removed]",
      "text/plain": [
       "<Figure size 432x288 with 1 Axes>"
      ]
     },
     "metadata": {},
     "output_type": "display_data"
    }
   ],
   "source": [
    "# Create and visualize network\n",
    "\n",
    "net_1 = nx.DiGraph(np.transpose(pg_ex))\n",
    "nx.draw_kamada_kawai(net_1)"
   ]
  },
  {
   "cell_type": "code",
   "execution_count": null,
   "id": "224c675b",
   "metadata": {},
   "outputs": [],
   "source": [
    "# Create the transition matrix\n",
    "\n",
    "trans_m = pg_ex / np.sum(pg_ex, axis=0)[np.newaxis, :]\n",
    "trans_m"
   ]
  },
  {
   "cell_type": "code",
   "execution_count": null,
   "id": "daba8aef",
   "metadata": {},
   "outputs": [],
   "source": [
    "# Initial distribution\n",
    "\n",
    "start_dist = np.ones(trans_m.shape[0]) / trans_m.shape[0]\n",
    "start_dist"
   ]
  },
  {
   "cell_type": "code",
   "execution_count": null,
   "id": "bf73533b",
   "metadata": {},
   "outputs": [],
   "source": [
    "# Function to perform algorithm\n",
    "def pg_calc(m, n, start):\n",
    "    temp = m\n",
    "    for i in range(n):\n",
    "        temp = np.matmul(temp, m)\n",
    "    return np.matmul(temp, start)"
   ]
  },
  {
   "cell_type": "code",
   "execution_count": null,
   "id": "70f66e52",
   "metadata": {},
   "outputs": [],
   "source": [
    "# Example after 32 steps\n",
    "pg_calc(trans_m, 32, start_dist)"
   ]
  },
  {
   "cell_type": "code",
   "execution_count": null,
   "id": "041d32f3",
   "metadata": {},
   "outputs": [],
   "source": [
    "# Check after how many iteration the outcome does not change\n",
    "\n",
    "for i in range(100):\n",
    "    if (pg_calc(trans_m, i, start_dist) == pg_calc(trans_m, i+1, start_dist)).all():\n",
    "        print('We can stop the algorithm at step', i)\n",
    "        break\n",
    "    else:\n",
    "        print('We still continue after step', i)"
   ]
  },
  {
   "cell_type": "code",
   "execution_count": null,
   "id": "494e9cc4",
   "metadata": {},
   "outputs": [],
   "source": [
    "# Check final distribution\n",
    "\n",
    "pg_calc(trans_m, 71, start_dist)"
   ]
  },
  {
   "cell_type": "code",
   "execution_count": null,
   "id": "9a80d22d",
   "metadata": {},
   "outputs": [],
   "source": [
    "# Compare it to the output of the in-built pagerank function we used previously\n",
    "\n",
    "nx.pagerank(net_1, alpha = 1)"
   ]
  },
  {
   "cell_type": "code",
   "execution_count": null,
   "id": "93bebdd5",
   "metadata": {},
   "outputs": [],
   "source": []
  }
 ],
 "metadata": {
  "kernelspec": {
   "display_name": "Python 3",
   "language": "python",
   "name": "python3"
  },
  "language_info": {
   "codemirror_mode": {
    "name": "ipython",
    "version": 3
   },
   "file_extension": ".py",
   "mimetype": "text/x-python",
   "name": "python",
   "nbconvert_exporter": "python",
   "pygments_lexer": "ipython3",
   "version": "3.8.8"
  }
 },
 "nbformat": 4,
 "nbformat_minor": 5
}
