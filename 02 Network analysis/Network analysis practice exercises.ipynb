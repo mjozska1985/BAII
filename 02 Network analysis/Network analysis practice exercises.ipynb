{
 "cells": [
  {
   "cell_type": "code",
   "execution_count": null,
   "id": "4f49c887",
   "metadata": {},
   "outputs": [],
   "source": [
    "# In the following there are some example tasks to praactice basic concepts of network analysis\n",
    "# Import the libraries\n",
    "\n",
    "import numpy as np\n",
    "import pandas as pd\n",
    "import matplotlib.pyplot as plt\n",
    "import seaborn as sns\n",
    "import networkx as nx"
   ]
  },
  {
   "cell_type": "code",
   "execution_count": null,
   "id": "a2729144",
   "metadata": {},
   "outputs": [],
   "source": [
    "# In the networkx package, there are some historically important networks already included\n",
    "# One of them is a small network depicting a karate club\n",
    "# We can start to work with the network using the following code\n",
    "\n",
    "karate_net = nx.karate_club_graph()"
   ]
  },
  {
   "cell_type": "code",
   "execution_count": null,
   "id": "38b43b76",
   "metadata": {},
   "outputs": [],
   "source": [
    "# Let's visualize the network\n",
    "# You can do it with the basic draw function\n",
    "# Extra task: if you checked the documentation on drawing, as recommended with a link in the centrality analsysi lecture\n",
    "# Find the layout that structure the nodes in a circle, and use that for visualization\n",
    "\n"
   ]
  },
  {
   "cell_type": "code",
   "execution_count": null,
   "id": "a35063f3",
   "metadata": {},
   "outputs": [],
   "source": [
    "# Check the number of nodes and total number of edges\n",
    "# 34 nodes, 78 edges\n"
   ]
  },
  {
   "cell_type": "code",
   "execution_count": null,
   "id": "d5e396fc",
   "metadata": {},
   "outputs": [],
   "source": [
    "# Do you find any attributes for nodes?\n",
    "# Specifications of two clubs, Mr. Hi and Office´r\n",
    "\n"
   ]
  },
  {
   "cell_type": "code",
   "execution_count": null,
   "id": "36308e64",
   "metadata": {},
   "outputs": [],
   "source": [
    "# What is the highest/lowest number of degree you can find in the network?\n",
    "# One node with 17 links, 11 nodes with 2 links\n",
    "\n"
   ]
  },
  {
   "cell_type": "code",
   "execution_count": null,
   "id": "07bed593",
   "metadata": {},
   "outputs": [],
   "source": [
    "# Visualize the histogram of degrees\n",
    "\n"
   ]
  },
  {
   "cell_type": "code",
   "execution_count": null,
   "id": "da6b1a2f",
   "metadata": {},
   "outputs": [],
   "source": [
    "# Calculate the average number of links a nde has in the karate network\n",
    "# 4.59\n",
    "\n"
   ]
  },
  {
   "cell_type": "code",
   "execution_count": null,
   "id": "ddeea759",
   "metadata": {},
   "outputs": [],
   "source": [
    "# Is the network connected?\n",
    "# Yes\n",
    "\n"
   ]
  },
  {
   "cell_type": "code",
   "execution_count": null,
   "id": "23246345",
   "metadata": {},
   "outputs": [],
   "source": [
    "# What is the diameter of the network?\n",
    "# 5\n",
    "\n"
   ]
  },
  {
   "cell_type": "code",
   "execution_count": null,
   "id": "5497f727",
   "metadata": {},
   "outputs": [],
   "source": [
    "# Filter the network to keep only the nodes for which the club attribute is Officer\n",
    "# How many nodes are left? 17\n",
    "# Is the remaining network still connected? Yes\n",
    "\n"
   ]
  },
  {
   "cell_type": "code",
   "execution_count": null,
   "id": "dd085a1b",
   "metadata": {},
   "outputs": [],
   "source": [
    "# what is the maximum degree in the filtered network, and what is the average number of degrees?\n",
    "# Maximum is 14, average is 3.76\n",
    "\n"
   ]
  },
  {
   "cell_type": "code",
   "execution_count": null,
   "id": "3fde9620",
   "metadata": {},
   "outputs": [],
   "source": [
    "# Perform the above tasks but now by filtering the original karate net for club Mr. Hi\n",
    "# Do you find higher avergae degree in this case?\n",
    "# 17 nodes, 15 maximum degree, still connected, avergae degree is 4.12, higher than Officers\n",
    "\n"
   ]
  },
  {
   "cell_type": "code",
   "execution_count": null,
   "id": "d3f6ea93",
   "metadata": {},
   "outputs": [],
   "source": [
    "# Let's continue with the original network without filtering\n",
    "# Calculate the five centrality measures introduced in the course\n",
    "# Collect the centrality values in a dataframe as done in the lecture example\n",
    "\n"
   ]
  },
  {
   "cell_type": "code",
   "execution_count": null,
   "id": "96dcc47c",
   "metadata": {},
   "outputs": [],
   "source": [
    "# Print the top 5 most central nodes based on each centrality measure \n",
    "# Do you find nodes are are top in all the rankings?\n",
    "\n"
   ]
  },
  {
   "cell_type": "code",
   "execution_count": null,
   "id": "1740c971",
   "metadata": {},
   "outputs": [],
   "source": [
    "# Which pair of centrality measures have the highest correlation?\n",
    "\n"
   ]
  },
  {
   "cell_type": "code",
   "execution_count": null,
   "id": "78e7b3bb",
   "metadata": {},
   "outputs": [],
   "source": []
  }
 ],
 "metadata": {
  "kernelspec": {
   "display_name": "Python 3",
   "language": "python",
   "name": "python3"
  },
  "language_info": {
   "codemirror_mode": {
    "name": "ipython",
    "version": 3
   },
   "file_extension": ".py",
   "mimetype": "text/x-python",
   "name": "python",
   "nbconvert_exporter": "python",
   "pygments_lexer": "ipython3",
   "version": "3.8.8"
  }
 },
 "nbformat": 4,
 "nbformat_minor": 5
}
