{
 "cells": [
  {
   "cell_type": "markdown",
   "id": "9b13537e",
   "metadata": {},
   "source": [
    "### Network centrality\n",
    "\n",
    "In this notebook we will go through the introduced centrality measures. For the analysis, we will use two networks on the same set of nodes: families in the 15th century Italy. The two networks describe their business and marriage connections"
   ]
  },
  {
   "cell_type": "code",
   "execution_count": null,
   "id": "a8fedd49",
   "metadata": {},
   "outputs": [],
   "source": [
    "# Start with the important libraries\n",
    "\n",
    "import numpy as np\n",
    "import pandas as pd\n",
    "import matplotlib.pyplot as plt\n",
    "import seaborn as sns\n",
    "\n",
    "# Importing the new library for network analysis\n",
    "import networkx as nx"
   ]
  },
  {
   "cell_type": "code",
   "execution_count": null,
   "id": "2eada71f",
   "metadata": {},
   "outputs": [],
   "source": [
    "# The files are in graphml format, it is also frequently used in practice\n",
    "\n",
    "family_business = nx.read_graphml(\"PADGB.GraphML\")\n",
    "\n",
    "# In order to draw the graph with the family names, we can extract it as it is a node attribute\n",
    "names_b = nx.get_node_attributes(family_business, 'name')\n",
    "\n",
    "# There are different drawing layout styles, here we try one we have not seen before\n",
    "# You can check the documentation of layout styles and experiment here:\n",
    "# https://networkx.org/documentation/stable/reference/drawing.html\n",
    "\n",
    "nx.draw_kamada_kawai(family_business, labels = names_b)"
   ]
  },
  {
   "cell_type": "code",
   "execution_count": null,
   "id": "8177044f",
   "metadata": {},
   "outputs": [],
   "source": [
    "# We can also check what extra information we have about the families\n",
    "# If you check, we do not have any extra data on the edges\n",
    "\n",
    "family_business.nodes(data= True)"
   ]
  },
  {
   "cell_type": "code",
   "execution_count": null,
   "id": "0547f4c0",
   "metadata": {},
   "outputs": [],
   "source": [
    "# We can import the netwrok depicting marriage relationships similarly\n",
    "\n",
    "family_marriage = nx.read_graphml(\"PADGM.GraphML\")\n",
    "\n",
    "# In order to draw the graph with the family names, we can extract it as it is a node attribute\n",
    "names_m = nx.get_node_attributes(family_marriage, 'name')\n",
    "\n",
    "# There are different drawing layout styles, here we try one we have not seen before\n",
    "# You can check the documentation of layout styles and experiment here:\n",
    "# https://networkx.org/documentation/stable/reference/drawing.html\n",
    "\n",
    "nx.draw_kamada_kawai(family_marriage, labels = names_m)"
   ]
  },
  {
   "cell_type": "code",
   "execution_count": null,
   "id": "647cdc8a",
   "metadata": {},
   "outputs": [],
   "source": [
    "# We can start with the simplest and most intuitive centrality, the degree\n",
    "# As introduced, degree centrality is calculated as the fraction of nodes that a node is connected to\n",
    "# The higher the value of degree centrality, the more central/important the node is\n",
    "\n",
    "# We calculate first for the business network\n",
    "\n",
    "deg_b = nx.degree_centrality(family_business)\n",
    "\n",
    "# The result is a dictionary\n",
    "deg_b"
   ]
  },
  {
   "cell_type": "code",
   "execution_count": null,
   "id": "96c0d05f",
   "metadata": {},
   "outputs": [],
   "source": [
    "# In order to collect the values for each centrality for a final comparison, we can create a dataframe\n",
    "# The index will be the name of the families\n",
    "\n",
    "centrality_b = pd.DataFrame(index = names_b.values())\n",
    "\n",
    "# We can add degree centrality as the first column\n",
    "# We can get the values from the dictionary\n",
    "\n",
    "centrality_b['degree_centrality'] = deg_b.values()\n",
    "\n",
    "centrality_b"
   ]
  },
  {
   "cell_type": "code",
   "execution_count": null,
   "id": "f601d082",
   "metadata": {},
   "outputs": [],
   "source": [
    "# We can do the same for the marriage network\n",
    "# We calculate the degree centrality, create the dataframe and add the values as the first column\n",
    "\n",
    "# Calculate centrality\n",
    "\n",
    "deg_m = nx.degree_centrality(family_marriage)\n",
    "\n",
    "# Create the dataframe\n",
    "\n",
    "centrality_m = pd.DataFrame(index = names_m.values())\n",
    "\n",
    "# Add degree centrality as the first column\n",
    "\n",
    "centrality_m['degree_centrality'] = deg_m.values()\n",
    "\n",
    "centrality_m"
   ]
  },
  {
   "cell_type": "code",
   "execution_count": null,
   "id": "aaa37676",
   "metadata": {},
   "outputs": [],
   "source": [
    "# The next measure is closeness centrality \n",
    "# As introduced, it calculates the average distance to all the other nodes\n",
    "# The smaller the avergae distance, the more central the node is\n",
    "# However, the implementation in networkx calculates a transformation of this value\n",
    "# So also in this case the higher the value that is calculated, the more central the node is\n",
    "# We start again with the business network\n",
    "# We can also not that nodes that are not connected, automatically get closness centrality 0\n",
    "\n",
    "closeness_b = nx.closeness_centrality(family_business)\n",
    "\n",
    "# Add closeness centrality as the second column\n",
    "\n",
    "centrality_b['closeness_centrality'] = closeness_b.values()\n",
    "\n",
    "centrality_b"
   ]
  },
  {
   "cell_type": "code",
   "execution_count": null,
   "id": "178d88cf",
   "metadata": {},
   "outputs": [],
   "source": [
    "# The same for the marriage network\n",
    "\n",
    "closeness_m = nx.closeness_centrality(family_marriage)\n",
    "\n",
    "# Add closeness centrality as the second column\n",
    "\n",
    "centrality_m['closeness_centrality'] = closeness_m.values()\n",
    "\n",
    "centrality_m"
   ]
  },
  {
   "cell_type": "code",
   "execution_count": null,
   "id": "b94a283a",
   "metadata": {},
   "outputs": [],
   "source": [
    "# The next one is betweenness centrality \n",
    "# As introduced, it quantifies the number of times a node # acts as a \n",
    "# bridge along the shortest path between two other nodes\n",
    "# We start with the business network\n",
    "\n",
    "betweenness_b = nx.betweenness_centrality(family_business)\n",
    "\n",
    "# Add closeness centrality as the third column\n",
    "\n",
    "centrality_b['betweenness_centrality'] = betweenness_b.values()\n",
    "\n",
    "centrality_b"
   ]
  },
  {
   "cell_type": "code",
   "execution_count": null,
   "id": "2b5227d9",
   "metadata": {},
   "outputs": [],
   "source": [
    "# The same for the marriage network\n",
    "\n",
    "betweenness_m = nx.betweenness_centrality(family_marriage)\n",
    "\n",
    "# Add closeness centrality as the second column\n",
    "\n",
    "centrality_m['betweenness_centrality'] = betweenness_m.values()\n",
    "\n",
    "centrality_m"
   ]
  },
  {
   "cell_type": "code",
   "execution_count": null,
   "id": "edd9adf5",
   "metadata": {},
   "outputs": [],
   "source": [
    "# The next one is eigenvector centrality \n",
    "# While not discussed in detail, intuitively a node is important if it is connected to other important nodes\n",
    "# We can start with the business network\n",
    "\n",
    "eigenvector_b = nx.eigenvector_centrality(family_business)\n",
    "\n",
    "# Add closeness centrality as the fourth column\n",
    "\n",
    "centrality_b['eigenvector_centrality'] = eigenvector_b.values()\n",
    "\n",
    "centrality_b"
   ]
  },
  {
   "cell_type": "code",
   "execution_count": null,
   "id": "bebc82d2",
   "metadata": {},
   "outputs": [],
   "source": [
    "# The same for the marriage network\n",
    "\n",
    "eigenvector_m = nx.eigenvector_centrality(family_marriage)\n",
    "\n",
    "# Add closeness centrality as the fourth column\n",
    "\n",
    "centrality_m['eigenvector_centrality'] = eigenvector_m.values()\n",
    "\n",
    "centrality_m"
   ]
  },
  {
   "cell_type": "code",
   "execution_count": null,
   "id": "22c226b8",
   "metadata": {},
   "outputs": [],
   "source": [
    "# Finally PageRank, that we discussed in detail\n",
    "# It is related to eigenvector centrality\n",
    "# We can start with the business network\n",
    "\n",
    "pagerank_b = nx.pagerank(family_business)\n",
    "\n",
    "# Add closeness centrality as the fifth column\n",
    "\n",
    "centrality_b['pagerank'] = pagerank_b.values()\n",
    "\n",
    "centrality_b"
   ]
  },
  {
   "cell_type": "code",
   "execution_count": null,
   "id": "46f80aa6",
   "metadata": {},
   "outputs": [],
   "source": [
    "# The same for marriage network\n",
    "\n",
    "pagerank_m = nx.pagerank(family_marriage)\n",
    "\n",
    "# Add closeness centrality as the fifth column\n",
    "\n",
    "centrality_m['pagerank'] = pagerank_m.values()\n",
    "\n",
    "centrality_m"
   ]
  },
  {
   "cell_type": "code",
   "execution_count": null,
   "id": "53211f22",
   "metadata": {},
   "outputs": [],
   "source": [
    "# We can compare the top 5 most important families\n",
    "# Business firt\n",
    "\n",
    "for col in centrality_b.columns:\n",
    "    result = list(centrality_b.sort_values(by = col, ascending = False).index[:5])\n",
    "    print('The top 5 families based on', col, 'in the business network are', result)"
   ]
  },
  {
   "cell_type": "code",
   "execution_count": null,
   "id": "5e651415",
   "metadata": {},
   "outputs": [],
   "source": [
    "# Marriage network\n",
    "for col in centrality_m.columns:\n",
    "    result = list(centrality_m.sort_values(by = col, ascending = False).index[:5])\n",
    "    print('The top 5 families based on', col, 'in the marriage network are', result)"
   ]
  },
  {
   "cell_type": "code",
   "execution_count": null,
   "id": "4d2c7753",
   "metadata": {},
   "outputs": [],
   "source": [
    "# In order to get a comparison on how similar rankings based on the different centrality measures are\n",
    "# we can calucalte correlation for the values\n",
    "# The higher the correlation, the more similar two centrality measures are\n",
    "\n",
    "# For the business network\n",
    "\n",
    "centrality_b.corr()"
   ]
  },
  {
   "cell_type": "code",
   "execution_count": null,
   "id": "a9cc0789",
   "metadata": {},
   "outputs": [],
   "source": [
    "# For the marriage network\n",
    "\n",
    "centrality_m.corr()"
   ]
  },
  {
   "cell_type": "code",
   "execution_count": null,
   "id": "0645ff3a",
   "metadata": {},
   "outputs": [],
   "source": []
  }
 ],
 "metadata": {
  "kernelspec": {
   "display_name": "Python 3",
   "language": "python",
   "name": "python3"
  },
  "language_info": {
   "codemirror_mode": {
    "name": "ipython",
    "version": 3
   },
   "file_extension": ".py",
   "mimetype": "text/x-python",
   "name": "python",
   "nbconvert_exporter": "python",
   "pygments_lexer": "ipython3",
   "version": "3.8.8"
  }
 },
 "nbformat": 4,
 "nbformat_minor": 5
}
