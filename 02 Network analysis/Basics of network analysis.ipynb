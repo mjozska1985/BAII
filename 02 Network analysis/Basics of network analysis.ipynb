{
 "cells": [
  {
   "cell_type": "markdown",
   "id": "d58fa595",
   "metadata": {},
   "source": [
    "## Creating networks with networkx\n",
    "To visualize and analyze networks (graphs), there are different packages available in Python, but there is one that stands out in terms of popularity and the range of methods included, and it is networkx. In this course, we will use this library to learn how the different concepts introduced in the lectures can be modeled and used in Python.\n"
   ]
  },
  {
   "cell_type": "code",
   "execution_count": null,
   "id": "b849bdd2",
   "metadata": {},
   "outputs": [],
   "source": [
    "# Importing the usual libraries\n",
    "import numpy as np\n",
    "import pandas as pd\n",
    "import matplotlib.pyplot as plt\n",
    "import seaborn as sns\n",
    "\n",
    "# Importing the new library for network analysis\n",
    "import networkx as nx"
   ]
  },
  {
   "cell_type": "code",
   "execution_count": null,
   "id": "05870406",
   "metadata": {},
   "outputs": [],
   "source": [
    "# There are several ways to create a graph, most importantly using the adjacency matrix.\n",
    "# For this purpose we will use numpy arrays as the first step\n",
    "\n",
    "matrix_adj = np.array([[0, 1, 0, 0, 1, 0],\n",
    "                  [1, 0, 1, 0, 1, 0],\n",
    "                  [0, 1, 0, 1, 0, 0],\n",
    "                  [0, 0, 1, 0, 1, 1],\n",
    "                  [1, 1, 0, 1, 0, 0],\n",
    "                  [0, 0, 0, 1, 0, 0]])\n",
    "matrix_adj"
   ]
  },
  {
   "cell_type": "code",
   "execution_count": null,
   "id": "8a3b18b4",
   "metadata": {},
   "outputs": [],
   "source": [
    "# We can create a network object from the adjacency matrix as\n",
    "\n",
    "net_1 = nx.Graph(matrix_adj)"
   ]
  },
  {
   "cell_type": "code",
   "execution_count": null,
   "id": "d9c47b3f",
   "metadata": {},
   "outputs": [],
   "source": [
    "# There are some basic methods we can use on a network object\n",
    "\n",
    "# The list of edges\n",
    "print('List of edges:')\n",
    "print(net_1.edges())\n",
    "\n",
    "# The list of nodes\n",
    "print('List of nodes:')\n",
    "print(net_1.nodes())\n",
    "\n",
    "# The degree of nodes\n",
    "print('Degree of nodes:')\n",
    "print(net_1.degree())\n",
    "\n",
    "# The size of network (number of edges)\n",
    "print('Size of network:')\n",
    "print(net_1.size())"
   ]
  },
  {
   "cell_type": "code",
   "execution_count": null,
   "id": "67c16bbb",
   "metadata": {},
   "outputs": [],
   "source": [
    "# There are various visualization tools, we will typically just use the basic one\n",
    "# NOTE: in case you encounter an error message, open anaconda prompt\n",
    "# and update the decorator library, this is done similarly to installing a new library\n",
    "# This time you have to write the following:\n",
    "\n",
    "# pip install decorator==4.3\n",
    "\n",
    "# After this, you may also need to restart Jupyter notebook\n",
    "\n",
    "nx.draw(net_1)"
   ]
  },
  {
   "cell_type": "code",
   "execution_count": null,
   "id": "dc6bfe3c",
   "metadata": {},
   "outputs": [],
   "source": [
    "# A similar approach to adjacency matrix is the adjacency list\n",
    "# In this case we have a file with each row correpsonding to one node, and listing \n",
    "# the other nodes that it is connected to\n",
    "# We need to usea different function for this\n",
    "\n",
    "net_2 = nx.read_adjlist('adjacency_list.txt', nodetype=int)\n",
    "\n",
    "net_2.edges()"
   ]
  },
  {
   "cell_type": "code",
   "execution_count": null,
   "id": "af4a3519",
   "metadata": {},
   "outputs": [],
   "source": [
    "# We can also visualize this network\n",
    "# If we change the functions, we get a bit different visualization,including also node labels\n",
    "nx.draw_networkx(net_2)"
   ]
  },
  {
   "cell_type": "code",
   "execution_count": null,
   "id": "fc89ac96",
   "metadata": {},
   "outputs": [],
   "source": [
    "# We can also create networks by simply providing the list of edges\n",
    "# with each edge as a tuple with the endpoints\n",
    "\n",
    "# First we initialize an empty graph object\n",
    "net_3 = nx.Graph()\n",
    "\n",
    "# We can make use of the add_edges_from method to add the list of edges\n",
    "# We do not need to specify separately the nodes, as they are automatically extracted from the edges\n",
    "\n",
    "net_3.add_edges_from([(1, 2), (1, 3), (1, 4), (1, 6), (2, 4), (2, 7), (4, 5), (5, 6), (5, 8), (6, 9), (9, 10)])\n",
    "\n",
    "# We can draw the network as above\n",
    "\n",
    "nx.draw_networkx(net_2)"
   ]
  },
  {
   "cell_type": "code",
   "execution_count": null,
   "id": "829d6f97",
   "metadata": {},
   "outputs": [],
   "source": [
    "# Creating different types of network can be performed using the three highlighted approaches.\n",
    "# The first extension we discussed is a directed network\n",
    "# We can simply create these by using DiGraph instead of Graph when creating the object\n",
    "\n",
    "net_1_dir = nx.DiGraph(matrix_adj)\n",
    "\n",
    "# When we draw the network, we can see that the arrows point in both directions\n",
    "# as in the adjacency matrix we have both directions indicated with a 1\n",
    "\n",
    "nx.draw(net_1_dir)"
   ]
  },
  {
   "cell_type": "code",
   "execution_count": null,
   "id": "f93cef86",
   "metadata": {},
   "outputs": [],
   "source": [
    "# If we specify the adjacency matrix in a non-symetric way, we have a more interesting directed network\n",
    "\n",
    "matrix_adj_dir = np.array([[0, 1, 0, 0, 0, 0],\n",
    "                  [0, 0, 1, 0, 1, 0],\n",
    "                  [0, 0, 0, 0, 0, 0],\n",
    "                  [0, 0, 1, 0, 0, 1],\n",
    "                  [0, 0, 0, 1, 0, 0],\n",
    "                  [0, 0, 0, 0, 0, 0]])\n",
    "\n",
    "net_1_dir = nx.DiGraph(matrix_adj_dir)\n",
    "\n",
    "nx.draw(net_1_dir)"
   ]
  },
  {
   "cell_type": "code",
   "execution_count": null,
   "id": "ac213b5f",
   "metadata": {},
   "outputs": [],
   "source": [
    "# We can also create directed networks using a list of edges\n",
    "# We simply use DiGraph\n",
    "\n",
    "net_3_dir = nx.DiGraph()\n",
    "\n",
    "# We can make use of the add_edges_from method to add the list of edges\n",
    "# We do not need to specify separately the nodes, as they are automatically extracted from the edges\n",
    "\n",
    "net_3_dir.add_edges_from([(1, 2), (1, 3), (1, 4), (1, 6), (2, 4), (2, 7), (4, 5), (5, 6), (5, 8), (6, 9), (9, 10)])\n",
    "\n",
    "# We can draw the network as above\n",
    "\n",
    "nx.draw_networkx(net_3_dir)"
   ]
  },
  {
   "cell_type": "code",
   "execution_count": null,
   "id": "3993c740",
   "metadata": {},
   "outputs": [],
   "source": [
    "# A different extension of the basic network definition is to add weights\n",
    "# representing the strength of a link in some sense\n",
    "# We can import simple data from an external file\n",
    "# We nedd to specify that we have weights included additionally to the edges, and it is in integer format\n",
    "\n",
    "\n",
    "net_4_weight = nx.read_edgelist('edgelist_weights.txt', data=[('Weight', int)])\n",
    "\n",
    "# We can print to see the defined structure\n",
    "print(net_4_weight.edges(data=True))"
   ]
  },
  {
   "cell_type": "markdown",
   "id": "e2bffb42",
   "metadata": {},
   "source": [
    "### Basic network characteristics\n",
    "\n",
    "After we have the network in the appropriate format, we usually start with calculating some basic characteristi measures. As we discussed, degree of nodes is in the core of any more complex analysis, so we typically start with that, and continue with investigating distances and paths in the network."
   ]
  },
  {
   "cell_type": "code",
   "execution_count": null,
   "id": "8450d793",
   "metadata": {},
   "outputs": [],
   "source": [
    "# for illustration, we will use a dataset from Twitter\n",
    "# We can load the data, it contains information about the users and their connections\n",
    "\n",
    "twitter = nx.read_gpickle('ego-twitter.p')"
   ]
  },
  {
   "cell_type": "code",
   "execution_count": null,
   "id": "b4e49dc7",
   "metadata": {},
   "outputs": [],
   "source": [
    "# When we check the nodes, we can see that there are 233369 users in the data\n",
    "\n",
    "print('The number of users is',len(twitter.nodes()))\n",
    "\n",
    "# When we print the nodes, including also data, we can see that we have some extra information about \n",
    "# the user category and the occupation\n",
    "# Note: the easiets way to print a selection is to convert it to a list first\n",
    "\n",
    "list(twitter.nodes(data=True))[:10]"
   ]
  },
  {
   "cell_type": "code",
   "execution_count": null,
   "id": "a7c0a2a4",
   "metadata": {},
   "outputs": [],
   "source": [
    "# Regarding edges, we can see using size that we have altogether 33142 links\n",
    "\n",
    "print('Number of links in the network is',twitter.size())\n",
    "\n",
    "# When we print the edges, we can also see that we have extra information, date,\n",
    "# on when the connection was established\n",
    "\n",
    "list(twitter.edges(data=True))[:10]"
   ]
  },
  {
   "cell_type": "code",
   "execution_count": null,
   "id": "7248a2e2",
   "metadata": {},
   "outputs": [],
   "source": [
    "list(twitter.nodes())[:30]"
   ]
  },
  {
   "cell_type": "code",
   "execution_count": null,
   "id": "d22a5aba",
   "metadata": {},
   "outputs": [],
   "source": [
    "# Visualizing a whole network like this can be very resource intensive, so it is a good place\n",
    "# to learn how we can select a subset of a network \n",
    "# This can be easily done by first creating a set of nodes we want to include\n",
    "# Let's select the first 30 nodes\n",
    "\n",
    "node_selection = list(twitter.nodes())[:30]\n",
    "\n",
    "# Then use subgraph to create this smaller network\n",
    "twitter_selection = twitter.subgraph(node_selection)\n",
    "\n",
    "# And visualize this smaller network\n",
    "\n",
    "nx.draw(twitter_selection)"
   ]
  },
  {
   "cell_type": "code",
   "execution_count": null,
   "id": "4efe317d",
   "metadata": {},
   "outputs": [],
   "source": [
    "# To look at the characteristics, first we start with the number of connections a node has, i.e. the degree\n",
    "# We have seen that we can get a complete picture using .degree\n",
    "\n",
    "twitter.degree()"
   ]
  },
  {
   "cell_type": "code",
   "execution_count": null,
   "id": "22ffad1e",
   "metadata": {},
   "outputs": [],
   "source": [
    "# If we want the degree for a specific node, we can obtain it as a selection \n",
    "# for example for node 1\n",
    "\n",
    "twitter.degree()[1]"
   ]
  },
  {
   "cell_type": "code",
   "execution_count": null,
   "id": "2b302916",
   "metadata": {},
   "outputs": [],
   "source": [
    "# We can obtain the list of all the degrees by iterating over the nodes, \n",
    "# or just using list comprehension\n",
    "\n",
    "twitter_degrees = [twitter.degree()[i] for i in twitter.nodes()]\n",
    "\n",
    "# Then by coverting it to series and checking value counts, we can see what values we have for connections\n",
    "# We can observe that 18471 users has only 1 connection, and the highest values is 239, we have one user with this many links\n",
    "\n",
    "twitter_degrees = pd.Series(twitter_degrees)\n",
    "twitter_degrees.value_counts()"
   ]
  },
  {
   "cell_type": "code",
   "execution_count": null,
   "id": "405da268",
   "metadata": {},
   "outputs": [],
   "source": [
    "# We can also create a histogram to look at the degree distribution\n",
    "\n",
    "sns.histplot(twitter_degrees)"
   ]
  },
  {
   "cell_type": "code",
   "execution_count": null,
   "id": "6dfdcc4f",
   "metadata": {
    "scrolled": true
   },
   "outputs": [],
   "source": [
    "# This does not look very informative as the majrity of nodes has one connection\n",
    "# We may want to visualize after filtering out nodes with low number of connections\n",
    "\n",
    "sns.histplot(twitter_degrees[twitter_degrees > 4])"
   ]
  },
  {
   "cell_type": "code",
   "execution_count": null,
   "id": "1f9c4737",
   "metadata": {},
   "outputs": [],
   "source": [
    "# Beside individual degree values, we are always interested the average number of links a node has\n",
    "# We can simply caluclate it by summing up the individual degrees and dividing it by the number of nodes\n",
    "\n",
    "avg_degree = twitter_degrees.sum() / len(twitter.nodes)\n",
    "\n",
    "print('The average number of connections is', avg_degree)"
   ]
  },
  {
   "cell_type": "code",
   "execution_count": null,
   "id": "b48ad66a",
   "metadata": {},
   "outputs": [],
   "source": [
    "# To go through average degree calculation once more let's consider net_1 from the beginning\n",
    "# We calculate the list of individual degrees and take the sum of that list\n",
    "\n",
    "net_1_degree = sum([net_1.degree()[i] for i in net_1.nodes()])\n",
    "\n",
    "# Then divide it by the number of the nodes\n",
    "net_1_degree / len(net_1.nodes())"
   ]
  },
  {
   "cell_type": "code",
   "execution_count": null,
   "id": "1820bc8d",
   "metadata": {},
   "outputs": [],
   "source": [
    "# After degree, we also talked about paths in the network, in particular shortest path,\n",
    "# i.e. how many connections we need to go thorugh to reach one node from another\n",
    "# In order to get the distance, or the length of the shortest path between two nodes\n",
    "# we can use the following function\n",
    "# For example, the distance between node 1 and 583 is 3 steps\n",
    "\n",
    "nx.shortest_path_length(twitter, 1, 583)"
   ]
  },
  {
   "cell_type": "code",
   "execution_count": null,
   "id": "b1231831",
   "metadata": {},
   "outputs": [],
   "source": [
    "# If we want, we can also list the nodes along the path, i.e. how we can reach node 583 from node 1\n",
    "# We first go to node 16, then from there to node 563, and finally to node 583\n",
    "\n",
    "nx.shortest_path(twitter, 1, 583)"
   ]
  },
  {
   "cell_type": "code",
   "execution_count": null,
   "id": "8d02da99",
   "metadata": {},
   "outputs": [],
   "source": [
    "# The original network id directed, we can make more use of the shortest path \n",
    "# i.e. there are more nodes to be reached when we consider it as undirected (i.e. we can move both direction on a link)\n",
    "# We can achive this using to_undirected on the original network\n",
    "\n",
    "twitter_undirected = twitter.to_undirected()\n",
    "\n",
    "# We could alternatively just use nx.Graph\n",
    "# twitter_undirected = nx.Graph(twitter)"
   ]
  },
  {
   "cell_type": "code",
   "execution_count": null,
   "id": "c792232e",
   "metadata": {},
   "outputs": [],
   "source": [
    "# While we can calculate the shortest path for any pair, we can get all of them at the same time as follows\n",
    "# In order to save time on computations, we do this on a smaller network and in an undirected form\n",
    "\n",
    "twitter_selection_undirected = twitter_undirected.subgraph(node_selection)\n",
    "\n",
    "twitter_undirected_spaths = nx.all_pairs_shortest_path_length(twitter_selection_undirected)\n",
    "\n",
    "# We can easily print it using a dictionary format\n",
    "path_dict = dict(twitter_undirected_spaths)\n",
    "print(path_dict)"
   ]
  },
  {
   "cell_type": "code",
   "execution_count": null,
   "id": "8790afe4",
   "metadata": {},
   "outputs": [],
   "source": [
    "# We can also extract from this the individual shortest path lengths\n",
    "\n",
    "path_dict[4][14]"
   ]
  },
  {
   "cell_type": "code",
   "execution_count": null,
   "id": "ff274d3a",
   "metadata": {},
   "outputs": [],
   "source": [
    "# The longest possible distance present in the network is the diameter\n",
    "# We check it for the undirected from, however we get an error message\n",
    "# As the network is not fully connected, the fucntion cannot calculate the diameter\n",
    "\n",
    "nx.diameter(twitter_undirected)"
   ]
  },
  {
   "cell_type": "code",
   "execution_count": null,
   "id": "dae7c0d1",
   "metadata": {},
   "outputs": [],
   "source": [
    "# We can check whether a (undirected) network is connected or not with the function is_connected\n",
    "\n",
    "print('The twitter network is connected:', nx.is_connected(twitter_undirected))\n",
    "print('The net_1 network is connected:', nx.is_connected(net_1))"
   ]
  },
  {
   "cell_type": "code",
   "execution_count": null,
   "id": "1aeb51d4",
   "metadata": {},
   "outputs": [],
   "source": [
    "# If we have a connected graph, such as net_1, we can obtain the correct diameter\n",
    "# as we can see it is 3, so the two nodes that are the farthest from each other are 3 steps away\n",
    "nx.diameter(net_1)"
   ]
  },
  {
   "cell_type": "code",
   "execution_count": null,
   "id": "11d10104",
   "metadata": {},
   "outputs": [],
   "source": [
    "# In order to work with unconccedted networks, we need to obtain the connected components, \n",
    "# and then perform any calculations we want for one component\n",
    "# We can see that the (undirected) twitter network has 72 components\n",
    "\n",
    "nx.number_connected_components(twitter_undirected)"
   ]
  },
  {
   "cell_type": "code",
   "execution_count": null,
   "id": "eb55e45b",
   "metadata": {},
   "outputs": [],
   "source": [
    "# We can look at the connected components\n",
    "# Let's just print the first 5\n",
    "# We can see that the first component is quite large\n",
    "\n",
    "print(list(nx.connected_components(twitter_undirected))[:5])"
   ]
  },
  {
   "cell_type": "code",
   "execution_count": null,
   "id": "c2c1ce12",
   "metadata": {},
   "outputs": [],
   "source": [
    "# We can check the size of the first component\n",
    "# It has more than 22000 nodes. So what we have is a very large component, and then some small groups of users\n",
    "\n",
    "len(list(nx.connected_components(twitter_undirected))[0])\n"
   ]
  },
  {
   "cell_type": "code",
   "execution_count": null,
   "id": "f734d5bb",
   "metadata": {},
   "outputs": [],
   "source": [
    "# In this case we could just select the largest component and continue calculations with that\n",
    "twitter_connected = twitter.subgraph(list(nx.connected_components(twitter_undirected))[0]).to_undirected()"
   ]
  },
  {
   "cell_type": "code",
   "execution_count": null,
   "id": "2f227c69",
   "metadata": {},
   "outputs": [],
   "source": [
    "# For this connected component we can see that it is indeed connected \n",
    "\n",
    "print('The largest twitter network is connected:', nx.is_connected(twitter_connected))"
   ]
  },
  {
   "cell_type": "markdown",
   "id": "d9fdbd04",
   "metadata": {},
   "source": [
    "### Filtering networks based on attributes\n",
    "The last thing that we do briefly is to see how we can make use of the additional data available about nodes and edges. The typical usecase is that we want to work with a subset of the network, e.g. a set of nodes that are of interest to use, so we need to create smalle networks by filtering based on the attributes."
   ]
  },
  {
   "cell_type": "code",
   "execution_count": null,
   "id": "8148e943",
   "metadata": {},
   "outputs": [],
   "source": [
    "# In the twitter network, an example would be a situation when we decide to focus only on politicians.\n",
    "# So first we need to select the nodes whose occupation is politician and create a suggraph based on that.\n",
    "\n",
    "politicians =  [n for n, d in twitter_connected.nodes(data=True) if d['occupation'] == 'politician']\n",
    "\n",
    "# As we can check, there are 7408 politicians\n",
    "\n",
    "len(politicians)"
   ]
  },
  {
   "cell_type": "code",
   "execution_count": null,
   "id": "8ae05a8a",
   "metadata": {},
   "outputs": [],
   "source": [
    "# Then we can select the sub-network of interest as above\n",
    "\n",
    "twitter_politicians = twitter_connected.subgraph(politicians)"
   ]
  },
  {
   "cell_type": "code",
   "execution_count": null,
   "id": "2f688e75",
   "metadata": {},
   "outputs": [],
   "source": [
    "# We could then for example calculate the average degree for this network\n",
    "twitter_politicians_degree = sum([twitter_politicians.degree()[i] for i in twitter_politicians.nodes()])\n",
    "\n",
    "# As we can see it is below 1, indicating that politicians tend not to follow each other on twitter\n",
    "twitter_politicians_degree / len(twitter_politicians.nodes())"
   ]
  },
  {
   "cell_type": "code",
   "execution_count": null,
   "id": "c232c6f2",
   "metadata": {},
   "outputs": [],
   "source": [
    "# We could also filter based on the information we have about the links. \n",
    "# For example we could select the edges that have associated date after year 2013\n",
    "\n",
    "links_2013 = [(u, v) for u, v, d in twitter_connected.edges(data=True) if d['date'].year > 2013]"
   ]
  },
  {
   "cell_type": "code",
   "execution_count": null,
   "id": "1763b2d8",
   "metadata": {},
   "outputs": [],
   "source": [
    "# When we check the length, we can see that there are less than 4000 in this network, so more than 80% of the links\n",
    "# as we have more than 30000 altogether, were created before 2013\n",
    "len(links_2013)"
   ]
  },
  {
   "cell_type": "code",
   "execution_count": null,
   "id": "34b797f2",
   "metadata": {},
   "outputs": [],
   "source": []
  }
 ],
 "metadata": {
  "kernelspec": {
   "display_name": "Python 3",
   "language": "python",
   "name": "python3"
  },
  "language_info": {
   "codemirror_mode": {
    "name": "ipython",
    "version": 3
   },
   "file_extension": ".py",
   "mimetype": "text/x-python",
   "name": "python",
   "nbconvert_exporter": "python",
   "pygments_lexer": "ipython3",
   "version": "3.8.8"
  }
 },
 "nbformat": 4,
 "nbformat_minor": 5
}
